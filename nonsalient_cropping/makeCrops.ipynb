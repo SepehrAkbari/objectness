{
 "cells": [
  {
   "cell_type": "code",
   "execution_count": 1,
   "metadata": {},
   "outputs": [],
   "source": [
    "import matplotlib.pyplot as plt\n",
    "from skimage import io, color\n",
    "import numpy as np\n",
    "import os\n",
    "import pandas as pd\n",
    "from PIL import ImageFile, Image\n",
    "ImageFile.LOAD_TRUNCATED_IMAGES = True\n",
    "from sklearn.model_selection import KFold\n",
    "import random\n",
    "random.seed(1337)"
   ]
  },
  {
   "cell_type": "code",
   "execution_count": 2,
   "metadata": {},
   "outputs": [
    {
     "data": {
      "text/html": [
       "<div>\n",
       "<style scoped>\n",
       "    .dataframe tbody tr th:only-of-type {\n",
       "        vertical-align: middle;\n",
       "    }\n",
       "\n",
       "    .dataframe tbody tr th {\n",
       "        vertical-align: top;\n",
       "    }\n",
       "\n",
       "    .dataframe thead th {\n",
       "        text-align: right;\n",
       "    }\n",
       "</style>\n",
       "<table border=\"1\" class=\"dataframe\">\n",
       "  <thead>\n",
       "    <tr style=\"text-align: right;\">\n",
       "      <th></th>\n",
       "      <th>filename</th>\n",
       "      <th>label</th>\n",
       "      <th>labelnum</th>\n",
       "      <th>iswrong</th>\n",
       "      <th>train</th>\n",
       "    </tr>\n",
       "  </thead>\n",
       "  <tbody>\n",
       "    <tr>\n",
       "      <th>0</th>\n",
       "      <td>../Paintings91_enhanced/Images/ALBRECHT_DURER_...</td>\n",
       "      <td>ALBRECHT_DURER</td>\n",
       "      <td>0</td>\n",
       "      <td>False</td>\n",
       "      <td>True</td>\n",
       "    </tr>\n",
       "    <tr>\n",
       "      <th>1</th>\n",
       "      <td>../Paintings91_enhanced/Images/ALBRECHT_DURER_...</td>\n",
       "      <td>ALBRECHT_DURER</td>\n",
       "      <td>0</td>\n",
       "      <td>False</td>\n",
       "      <td>True</td>\n",
       "    </tr>\n",
       "    <tr>\n",
       "      <th>2</th>\n",
       "      <td>../Paintings91_enhanced/Images/ALBRECHT_DURER_...</td>\n",
       "      <td>ALBRECHT_DURER</td>\n",
       "      <td>0</td>\n",
       "      <td>False</td>\n",
       "      <td>True</td>\n",
       "    </tr>\n",
       "    <tr>\n",
       "      <th>3</th>\n",
       "      <td>../Paintings91_enhanced/Images/ALBRECHT_DURER_...</td>\n",
       "      <td>ALBRECHT_DURER</td>\n",
       "      <td>0</td>\n",
       "      <td>False</td>\n",
       "      <td>True</td>\n",
       "    </tr>\n",
       "    <tr>\n",
       "      <th>4</th>\n",
       "      <td>../Paintings91_enhanced/Images/ALBRECHT_DURER_...</td>\n",
       "      <td>ALBRECHT_DURER</td>\n",
       "      <td>0</td>\n",
       "      <td>False</td>\n",
       "      <td>True</td>\n",
       "    </tr>\n",
       "  </tbody>\n",
       "</table>\n",
       "</div>"
      ],
      "text/plain": [
       "                                            filename           label  \\\n",
       "0  ../Paintings91_enhanced/Images/ALBRECHT_DURER_...  ALBRECHT_DURER   \n",
       "1  ../Paintings91_enhanced/Images/ALBRECHT_DURER_...  ALBRECHT_DURER   \n",
       "2  ../Paintings91_enhanced/Images/ALBRECHT_DURER_...  ALBRECHT_DURER   \n",
       "3  ../Paintings91_enhanced/Images/ALBRECHT_DURER_...  ALBRECHT_DURER   \n",
       "4  ../Paintings91_enhanced/Images/ALBRECHT_DURER_...  ALBRECHT_DURER   \n",
       "\n",
       "   labelnum  iswrong  train  \n",
       "0         0    False   True  \n",
       "1         0    False   True  \n",
       "2         0    False   True  \n",
       "3         0    False   True  \n",
       "4         0    False   True  "
      ]
     },
     "execution_count": 2,
     "metadata": {},
     "output_type": "execute_result"
    }
   ],
   "source": [
    "path = '..'\n",
    "loadingpath = path + '/Paintings91_enhanced'\n",
    "writingpath = path + '/Paintings91_Enhanced/Cropped_paintings'\n",
    "\n",
    "impath = loadingpath + '/Images'\n",
    "labelpath = loadingpath + '/Labels'\n",
    "\n",
    "imlist = os.listdir(impath)\n",
    "\n",
    "labelfile = labelpath + '/imagedata.csv'\n",
    "dblabels = pd.read_csv(labelfile)\n",
    "dblabels.head()"
   ]
  },
  {
   "cell_type": "code",
   "execution_count": 3,
   "metadata": {},
   "outputs": [
    {
     "data": {
      "text/plain": [
       "(5359, 5)"
      ]
     },
     "execution_count": 3,
     "metadata": {},
     "output_type": "execute_result"
    }
   ],
   "source": [
    "dblabels.shape"
   ]
  },
  {
   "cell_type": "code",
   "execution_count": 4,
   "metadata": {},
   "outputs": [
    {
     "data": {
      "text/plain": [
       "<BarContainer object of 100 artists>"
      ]
     },
     "execution_count": 4,
     "metadata": {},
     "output_type": "execute_result"
    },
    {
     "data": {
      "image/png": "[encoded data removed]",
      "text/plain": [
       "<Figure size 640x480 with 1 Axes>"
      ]
     },
     "metadata": {},
     "output_type": "display_data"
    }
   ],
   "source": [
    "counts = dblabels.labelnum.value_counts()\n",
    "plt.bar(counts.keys(), counts)"
   ]
  },
  {
   "cell_type": "code",
   "execution_count": 5,
   "metadata": {},
   "outputs": [
    {
     "data": {
      "text/plain": [
       "69"
      ]
     },
     "execution_count": 5,
     "metadata": {},
     "output_type": "execute_result"
    }
   ],
   "source": [
    "max(counts)"
   ]
  },
  {
   "cell_type": "code",
   "execution_count": 6,
   "metadata": {},
   "outputs": [],
   "source": [
    "#method responsible for setting crop cordinates for image\n",
    "def rectangles(image, num,minsize = -1):\n",
    "    rects = []\n",
    "    rows = image.shape[0]\n",
    "    cols = image.shape[1]\n",
    "    if minsize == -1:\n",
    "        minsize = 0.1 *  min([rows,cols])\n",
    "    for i in range(num):\n",
    "        r1 = np.random.randint(0, rows-minsize)\n",
    "        c1 = np.random.randint(0, cols-minsize)\n",
    "        r2 = np.random.randint(r1+minsize,rows)\n",
    "        c2 = np.random.randint(c1+minsize,cols)\n",
    "        smaller_dim = min((r2-r1, c2-c1)) # Turn it into a square crop\n",
    "        r2 = r1 + smaller_dim\n",
    "        c2 = c1 + smaller_dim\n",
    "        rects.append([r1,c1,r2,c2])\n",
    "    return np.array(rects)\n",
    "\n",
    "def grid(image, gridsize=50, stride = 10):\n",
    "    rects = []\n",
    "    rows = image.shape[0]\n",
    "    cols = image.shape[1]\n",
    "    for i in range(0,rows-gridsize,stride):\n",
    "        for j in range(0,cols-gridsize,stride):\n",
    "            r1 = i\n",
    "            c1 = j\n",
    "            r2 = i+gridsize\n",
    "            c2 = j+gridsize\n",
    "            rects.append([r1,c1,r2,c2])\n",
    "    return np.array(rects)\n",
    "\n",
    "def drawbox(image, r1,c1,r2,c2,thickness=3,color=(255,255,0)):\n",
    "    if len(image.shape)==2:\n",
    "        image = np.stack((image, image, image), axis = 2)\n",
    "    newimage = image.copy()\n",
    "    for plane in range(3):\n",
    "        newimage[r1:r2, c1:c2, plane] = color[plane]\n",
    "        newimage[r1+thickness:r2-thickness,c1+thickness:c2-thickness,plane] = image[r1+thickness:r2-thickness,c1+thickness:c2-thickness,plane]\n",
    "    return newimage\n",
    "    \n",
    "    \n",
    "\n"
   ]
  },
  {
   "cell_type": "markdown",
   "metadata": {},
   "source": [
    "## loading and cropping images"
   ]
  },
  {
   "cell_type": "code",
   "execution_count": 7,
   "metadata": {
    "tags": []
   },
   "outputs": [
    {
     "name": "stdout",
     "output_type": "stream",
     "text": [
      "../Paintings91_enhanced/Images/ALBRECHT_DURER_1.jpg \t ALBRECHT_DURER \t 0\n",
      "../Paintings91_enhanced/Images/AMEDEO_MODIGLIANI_1.jpg \t AMEDEO_MODIGLIANI \t 1\n",
      "../Paintings91_enhanced/Images/AMRITA_SHER-GIL_1.jpg \t AMRITA_SHER-GIL \t 2\n",
      "../Paintings91_enhanced/Images/ANDREA_MANTEGNA_1.jpg \t ANDREA_MANTEGNA \t 3\n",
      "../Paintings91_enhanced/Images/ANDY_WARHOL_1.jpg \t ANDY_WARHOL \t 4\n",
      "../Paintings91_enhanced/Images/ARSHILLE_GORKY_1.jpg \t ARSHILLE_GORKY \t 5\n",
      "../Paintings91_enhanced/Images/CAMILLE_COROT_1.jpg \t CAMILLE_COROT \t 6\n",
      "../Paintings91_enhanced/Images/CARAVAGGIO_1.jpg \t CARAVAGGIO \t 7\n",
      "../Paintings91_enhanced/Images/CASPAR_DAVID_FRIEDRICH_1.jpg \t CASPAR_DAVID_FRIEDRICH \t 8\n",
      "../Paintings91_enhanced/Images/CLAUDE_LORRAIN_1.jpg \t CLAUDE_LORRAIN \t 9\n",
      "../Paintings91_enhanced/Images/CLAUDE_MONET_1.jpg \t CLAUDE_MONET \t 10\n",
      "../Paintings91_enhanced/Images/DANTE_GABRIEL_ROSSETTI_1.jpg \t DANTE_GABRIEL_ROSSETTI \t 11\n",
      "../Paintings91_enhanced/Images/DAVID_HOCKNEY_1.jpg \t DAVID_HOCKNEY \t 12\n",
      "../Paintings91_enhanced/Images/DIEGO_VELAZQUEZ_1.jpg \t DIEGO_VELAZQUEZ \t 13\n",
      "../Paintings91_enhanced/Images/EDGAR_DEGAS_1.jpg \t EDGAR_DEGAS \t 14\n"
     ]
    },
    {
     "name": "stderr",
     "output_type": "stream",
     "text": [
      "C:\\Users\\banerji\\Anaconda3\\envs\\wakanda\\lib\\site-packages\\PIL\\TiffImagePlugin.py:628: UserWarning: Metadata Warning, tag 33723 had too many entries: 4, expected 1\n",
      "  warnings.warn(\n"
     ]
    },
    {
     "name": "stdout",
     "output_type": "stream",
     "text": [
      "../Paintings91_enhanced/Images/EDOUARD_MANET_1.jpg \t EDOUARD_MANET \t 15\n",
      "../Paintings91_enhanced/Images/EDVARD_MUNCH_1.jpg \t EDVARD_MUNCH \t 16\n",
      "../Paintings91_enhanced/Images/EDWARD_HOPPER_1.jpg \t EDWARD_HOPPER \t 17\n",
      "../Paintings91_enhanced/Images/EGON_SCHIELE_1.jpg \t EGON_SCHIELE \t 18\n",
      "../Paintings91_enhanced/Images/EL_LISSITZKY_1.jpg \t EL_LISSITZKY \t 19\n",
      "../Paintings91_enhanced/Images/EUGENE_DELACROIX_1.jpg \t EUGENE_DELACROIX \t 20\n",
      "../Paintings91_enhanced/Images/FERNAND_LEGER_1.jpg \t FERNAND_LEGER \t 21\n",
      "../Paintings91_enhanced/Images/FRA_ANGELICO_1.jpg \t FRA_ANGELICO \t 22\n",
      "../Paintings91_enhanced/Images/FRANCIS_BACON_1.jpg \t FRANCIS_BACON \t 23\n",
      "../Paintings91_enhanced/Images/FRANCISCO_DE_GOYA_1.jpg \t FRANCISCO_DE_GOYA \t 24\n",
      "../Paintings91_enhanced/Images/FRANCISCO_DE_ZURBARAN_1.jpg \t FRANCISCO_DE_ZURBARAN \t 25\n",
      "../Paintings91_enhanced/Images/FRANS_HALS_1.jpg \t FRANS_HALS \t 26\n",
      "../Paintings91_enhanced/Images/FRANZ_MARC_1.jpg \t FRANZ_MARC \t 27\n"
     ]
    },
    {
     "name": "stderr",
     "output_type": "stream",
     "text": [
      "C:\\Users\\banerji\\Anaconda3\\envs\\wakanda\\lib\\site-packages\\PIL\\TiffImagePlugin.py:822: UserWarning: Corrupt EXIF data.  Expecting to read 4 bytes but only got 0. \n",
      "  warnings.warn(str(msg))\n"
     ]
    },
    {
     "name": "stdout",
     "output_type": "stream",
     "text": [
      "../Paintings91_enhanced/Images/Frederic_Edwin_Church_1.jpg \t Frederic_Edwin_Church \t 28\n",
      "../Paintings91_enhanced/Images/FRIDA_KAHLO_1.jpg \t FRIDA_KAHLO \t 29\n",
      "../Paintings91_enhanced/Images/GENTILESCHI_ARTEMISIA_1.jpg \t GENTILESCHI_ARTEMISIA \t 30\n",
      "../Paintings91_enhanced/Images/GEORGES_BRAQUE_1.jpg \t GEORGES_BRAQUE \t 31\n",
      "../Paintings91_enhanced/Images/GEORGES_DE_LA_TOUR_1.jpg \t GEORGES_DE_LA_TOUR \t 32\n",
      "../Paintings91_enhanced/Images/GEORGES_SEURAT_1.jpg \t GEORGES_SEURAT \t 33\n",
      "../Paintings91_enhanced/Images/GEORGIA_OKEEFE_1.jpg \t GEORGIA_OKEEFE \t 34\n",
      "../Paintings91_enhanced/Images/GERHARD_RICHTER_1.jpg \t GERHARD_RICHTER \t 35\n",
      "../Paintings91_enhanced/Images/GIORGIO_DE_CHIRICO_1.jpg \t GIORGIO_DE_CHIRICO \t 36\n",
      "../Paintings91_enhanced/Images/GIORGIONE_1.jpg \t GIORGIONE \t 37\n",
      "../Paintings91_enhanced/Images/GIOTTO_DI_BONDONE_1.jpg \t GIOTTO_DI_BONDONE \t 38\n",
      "../Paintings91_enhanced/Images/GUSTAV_KLIMT_1.jpg \t GUSTAV_KLIMT \t 39\n",
      "../Paintings91_enhanced/Images/GUSTAVE_COURBET_1.jpg \t GUSTAVE_COURBET \t 40\n",
      "../Paintings91_enhanced/Images/GUSTAVE_MOREAU_1.jpg \t GUSTAVE_MOREAU \t 41\n",
      "../Paintings91_enhanced/Images/HANS_HOLBEIN_THE_YOUNGER_1.jpg \t HANS_HOLBEIN_THE_YOUNGER \t 42\n"
     ]
    },
    {
     "name": "stderr",
     "output_type": "stream",
     "text": [
      "C:\\Users\\banerji\\Anaconda3\\envs\\wakanda\\lib\\site-packages\\PIL\\Image.py:2896: DecompressionBombWarning: Image size (98530000 pixels) exceeds limit of 89478485 pixels, could be decompression bomb DOS attack.\n",
      "  warnings.warn(\n"
     ]
    },
    {
     "name": "stdout",
     "output_type": "stream",
     "text": [
      "../Paintings91_enhanced/Images/HANS_MEMLING_1.jpg \t HANS_MEMLING \t 43\n",
      "../Paintings91_enhanced/Images/HENRI_MATISSE_1.jpg \t HENRI_MATISSE \t 44\n",
      "../Paintings91_enhanced/Images/HIERONYMUS_BOSCH_1.jpg \t HIERONYMUS_BOSCH \t 45\n",
      "../Paintings91_enhanced/Images/JACKSON_POLLOCK_1.jpg \t JACKSON_POLLOCK \t 46\n",
      "../Paintings91_enhanced/Images/JACQUES-LOUIS_DAVID_1.jpg \t JACQUES-LOUIS_DAVID \t 47\n",
      "../Paintings91_enhanced/Images/JAMES_ENSOR_1.jpg \t JAMES_ENSOR \t 48\n",
      "../Paintings91_enhanced/Images/JAMES_MCNEILL_WHISTLER_1.jpg \t JAMES_MCNEILL_WHISTLER \t 49\n",
      "../Paintings91_enhanced/Images/JAMINI_ROY_1.jpg \t JAMINI_ROY \t 50\n",
      "../Paintings91_enhanced/Images/JAN_VAN_EYCK_1.jpg \t JAN_VAN_EYCK \t 51\n",
      "../Paintings91_enhanced/Images/JAN_VERMEER_1.jpg \t JAN_VERMEER \t 52\n",
      "../Paintings91_enhanced/Images/JASPER_JOHNS_1.jpg \t JASPER_JOHNS \t 53\n",
      "../Paintings91_enhanced/Images/JEAN-ANTOINE_WATTEAU_1.jpg \t JEAN-ANTOINE_WATTEAU \t 54\n",
      "../Paintings91_enhanced/Images/JEAN-AUGUSTE-DOMINIQUE_INGRES_1.jpg \t JEAN-AUGUSTE-DOMINIQUE_INGRES \t 55\n",
      "../Paintings91_enhanced/Images/JEAN-MICHEL_BASQUIAT_1.jpg \t JEAN-MICHEL_BASQUIAT \t 56\n",
      "../Paintings91_enhanced/Images/JEAN_FRANCOIS_MILLET_1.jpg \t JEAN_FRANCOIS_MILLET \t 57\n",
      "../Paintings91_enhanced/Images/JOACHIM_PATINIR_1.jpg \t JOACHIM_PATINIR \t 58\n",
      "../Paintings91_enhanced/Images/JOAN_MIRO_1.jpg \t JOAN_MIRO \t 59\n",
      "../Paintings91_enhanced/Images/JOHN_CONSTABLE_1.jpg \t JOHN_CONSTABLE \t 60\n",
      "../Paintings91_enhanced/Images/JOSEPH_MALLORD_WILLIAM_TURNER_1.jpg \t JOSEPH_MALLORD_WILLIAM_TURNER \t 61\n",
      "../Paintings91_enhanced/Images/JULIE_MEHRETU_1.jpg \t JULIE_MEHRETU \t 62\n",
      "../Paintings91_enhanced/Images/KATSUSHIKA_HOKUSAI_1.jpg \t KATSUSHIKA_HOKUSAI \t 63\n",
      "../Paintings91_enhanced/Images/KAZIMIR_MALEVICH_1.jpg \t KAZIMIR_MALEVICH \t 64\n",
      "../Paintings91_enhanced/Images/KITAGAWA_UTAMARO_1.jpg \t KITAGAWA_UTAMARO \t 65\n",
      "../Paintings91_enhanced/Images/LUCIO_FONTANA_1.jpg \t LUCIO_FONTANA \t 66\n",
      "../Paintings91_enhanced/Images/MARC_CHAGALL_1.jpg \t MARC_CHAGALL \t 67\n",
      "../Paintings91_enhanced/Images/MARK_ROTHKO_1.jpg \t MARK_ROTHKO \t 68\n",
      "../Paintings91_enhanced/Images/MAX_ERNST_1.jpg \t MAX_ERNST \t 69\n",
      "../Paintings91_enhanced/Images/NICOLAS_POUSSIN_1.jpg \t NICOLAS_POUSSIN \t 70\n",
      "../Paintings91_enhanced/Images/PABLO_PICASSO_1.jpg \t PABLO_PICASSO \t 71\n",
      "../Paintings91_enhanced/Images/PAUL_CEZANNE_1.jpg \t PAUL_CEZANNE \t 72\n",
      "../Paintings91_enhanced/Images/PAUL_GAUGUIN_1.jpg \t PAUL_GAUGUIN \t 73\n",
      "../Paintings91_enhanced/Images/PAUL_KLEE_1.jpg \t PAUL_KLEE \t 74\n",
      "../Paintings91_enhanced/Images/PETER_PAUL_RUBENS_1.jpg \t PETER_PAUL_RUBENS \t 75\n",
      "../Paintings91_enhanced/Images/PIERRE-AUGUSTE_RENOIR_1.jpg \t PIERRE-AUGUSTE_RENOIR \t 76\n",
      "../Paintings91_enhanced/Images/PIET_MONDRIAN_1.jpg \t PIET_MONDRIAN \t 77\n",
      "../Paintings91_enhanced/Images/PIETER_BRUEGEL_THE_ELDER_1.jpg \t PIETER_BRUEGEL_THE_ELDER \t 78\n",
      "../Paintings91_enhanced/Images/RAFIY_OKEFOLAHAN_1.jpg \t RAFIY_OKEFOLAHAN \t 79\n",
      "../Paintings91_enhanced/Images/RAJA_RAVI_VARMA_1.jpg \t RAJA_RAVI_VARMA \t 80\n",
      "../Paintings91_enhanced/Images/RAPHAEL_1.jpg \t RAPHAEL \t 81\n",
      "../Paintings91_enhanced/Images/REMBRANDT_VAN_RIJN_1.jpg \t REMBRANDT_VAN_RIJN \t 82\n",
      "../Paintings91_enhanced/Images/RENE_MAGRITTE_1.jpg \t RENE_MAGRITTE \t 83\n",
      "../Paintings91_enhanced/Images/ROGER_VAN_DER_WEYDEN_1.jpg \t ROGER_VAN_DER_WEYDEN \t 84\n",
      "../Paintings91_enhanced/Images/ROY_LICHTENSTEIN_1.jpg \t ROY_LICHTENSTEIN \t 85\n",
      "../Paintings91_enhanced/Images/SALVADOR_DALI_1.jpg \t SALVADOR_DALI \t 86\n",
      "../Paintings91_enhanced/Images/SANDRO_BOTTICELLI_1.jpg \t SANDRO_BOTTICELLI \t 87\n",
      "../Paintings91_enhanced/Images/THEODORE_GERICAULT_1.jpg \t THEODORE_GERICAULT \t 88\n",
      "../Paintings91_enhanced/Images/TINTORETTO_1.jpg \t TINTORETTO \t 89\n",
      "../Paintings91_enhanced/Images/TITIAN_1.jpg \t TITIAN \t 90\n",
      "../Paintings91_enhanced/Images/UMBERTO_BOCCIONI_1.jpg \t UMBERTO_BOCCIONI \t 91\n",
      "../Paintings91_enhanced/Images/UTAWAGA_HIROSHIGE_1.jpg \t UTAWAGA_HIROSHIGE \t 92\n",
      "../Paintings91_enhanced/Images/VINCENT_VAN_GOGH_1.jpg \t VINCENT_VAN_GOGH \t 93\n",
      "../Paintings91_enhanced/Images/WASSILY_KANDINSKY_1.jpg \t WASSILY_KANDINSKY \t 94\n",
      "../Paintings91_enhanced/Images/WILLEM_DE_KOONING_1.jpg \t WILLEM_DE_KOONING \t 95\n",
      "../Paintings91_enhanced/Images/WILLIAM_BLAKE_1.jpg \t WILLIAM_BLAKE \t 96\n",
      "../Paintings91_enhanced/Images/WILLIAM_HOGARTH_1.jpg \t WILLIAM_HOGARTH \t 97\n",
      "../Paintings91_enhanced/Images/WINSLOW_HOMER_1.jpg \t WINSLOW_HOMER \t 98\n",
      "../Paintings91_enhanced/Images/ZHANG_XIAOGANG_1.jpg \t ZHANG_XIAOGANG \t 99\n"
     ]
    }
   ],
   "source": [
    "row1s = []\n",
    "col1s = []\n",
    "row2s = []\n",
    "col2s = []\n",
    "\n",
    "mainfilenames = []\n",
    "cropfilenames = []\n",
    "labels = []\n",
    "labelnums = []\n",
    "\n",
    "numcrops = 25\n",
    "\n",
    "for filenum in range(len(dblabels.filename)):\n",
    "    # # If it's a wrong file, skip it.\n",
    "    # if dblabels['iswrong'][filenum] == True:\n",
    "    #     continue\n",
    "    # if we have trained enough images for a class, skip the rest\n",
    "    if dblabels['train'][filenum] == False:\n",
    "        continue\n",
    "    \n",
    "    filename = dblabels['filename'][filenum]\n",
    "    if filenum == 0 or dblabels['labelnum'][filenum] != dblabels['labelnum'][filenum-1]:\n",
    "        print(filename,'\\t',dblabels['label'][filenum],'\\t',dblabels['labelnum'][filenum])\n",
    "\n",
    "    \n",
    "    try:\n",
    "        img = io.imread(filename)\n",
    "    except:\n",
    "        print('Error in file: ' + filename)\n",
    "        continue\n",
    "        \n",
    "    if len(np.shape(img)) == 3:\n",
    "        if img.shape[2] == 4:\n",
    "            img = img[:,:,:3]\n",
    "    else:\n",
    "        img = np.stack([img,img,img],axis = 2)\n",
    "    \n",
    "    boxes = rectangles(img, numcrops) #[r1,c1,r2,c2]\n",
    "    file = filename.split('/')[-1]\n",
    "    file = file.split('.')[0]\n",
    "\n",
    "    for b in range(boxes.shape[0]):\n",
    "        crop = img[boxes[b][0]:boxes[b][2],boxes[b][1]:boxes[b][3],:]\n",
    "        cropfilename = writingpath + '/' + file + '_' + str(b) + '.jpg'\n",
    "        row1s.append(boxes[b,0])\n",
    "        col1s.append(boxes[b,1])\n",
    "        row2s.append(boxes[b,2])\n",
    "        col2s.append(boxes[b,3])\n",
    "        \n",
    "        mainfilenames.append(filename)\n",
    "        cropfilenames.append(cropfilename)\n",
    "        labels.append(dblabels['label'][filenum])\n",
    "        labelnums.append(dblabels['labelnum'][filenum])\n",
    "        io.imsave(cropfilename,crop,check_contrast=False)\n",
    "\n",
    "        \n",
    "data = {'mainfilename':mainfilenames,'cropfilename':cropfilenames,'row1':row1s,'col1':col1s,'row2':row2s,'col2':col2s,'label':labels,'labelnum':labelnums}\n",
    "cropdf = pd.DataFrame.from_dict(data)\n",
    "cropdf.to_csv(labelpath + '/' + 'cropdata.csv')        "
   ]
  },
  {
   "cell_type": "code",
   "execution_count": null,
   "metadata": {},
   "outputs": [],
   "source": []
  },
  {
   "cell_type": "code",
   "execution_count": null,
   "metadata": {},
   "outputs": [],
   "source": []
  }
 ],
 "metadata": {
  "kernelspec": {
   "display_name": "Python 3 (ipykernel)",
   "language": "python",
   "name": "python3"
  },
  "language_info": {
   "codemirror_mode": {
    "name": "ipython",
    "version": 3
   },
   "file_extension": ".py",
   "mimetype": "text/x-python",
   "name": "python",
   "nbconvert_exporter": "python",
   "pygments_lexer": "ipython3",
   "version": "3.11.5"
  }
 },
 "nbformat": 4,
 "nbformat_minor": 4
}
